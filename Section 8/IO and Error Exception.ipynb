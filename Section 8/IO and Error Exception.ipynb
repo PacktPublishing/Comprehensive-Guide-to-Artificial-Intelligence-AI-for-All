{
 "cells": [
  {
   "cell_type": "code",
   "execution_count": null,
   "metadata": {},
   "outputs": [],
   "source": [
    "# open and read a text file\n",
    "f = open(\"E:/Python/textestfile.txt\", \"r\")\n",
    "print(f.readline())\n",
    "print(f.readline())\n",
    "\n",
    "# \"r\" - when the file will only be read\n",
    "\n",
    "# \"a\" - opens the file for appending; any data written to the file is automatically added to the end\n",
    "\n",
    "# \"w\" - for only writing (an existing file with the same name will be erased)\n",
    "\n"
   ]
  },
  {
   "cell_type": "code",
   "execution_count": null,
   "metadata": {},
   "outputs": [],
   "source": [
    "p = open(\"E:/Python/textestfile.txt\", \"r\")\n",
    "for x in p:\n",
    "  print(x)"
   ]
  },
  {
   "cell_type": "code",
   "execution_count": null,
   "metadata": {},
   "outputs": [],
   "source": [
    "# Create a new file\n",
    "p = open(\"E:/Python/myfile6.txt\", \"w\")\n"
   ]
  },
  {
   "cell_type": "code",
   "execution_count": null,
   "metadata": {},
   "outputs": [],
   "source": [
    "# Write into the file\n",
    "p.write(\"  2 - Hello there, how are you doing\")\n"
   ]
  },
  {
   "cell_type": "code",
   "execution_count": null,
   "metadata": {},
   "outputs": [],
   "source": [
    "p = open(\"E:/Python/myfile6.txt\", \"r\")\n",
    "print(p.readline())\n",
    "print(p.readline())"
   ]
  },
  {
   "cell_type": "code",
   "execution_count": 4,
   "metadata": {},
   "outputs": [
    {
     "name": "stdout",
     "output_type": "stream",
     "text": [
      "[1, 2, 3, 4, 5, 6]\n"
     ]
    }
   ],
   "source": [
    "# Exception Handling\n",
    "try:\n",
    "  #print(x)\n",
    "  a = [1,2,3]\n",
    "  b = [4,5,6]\n",
    "  c = a+b\n",
    "  print(c)\n",
    "\n",
    "except:\n",
    "  print(\"Oops we have an error\")"
   ]
  },
  {
   "cell_type": "code",
   "execution_count": 5,
   "metadata": {},
   "outputs": [
    {
     "name": "stdout",
     "output_type": "stream",
     "text": [
      "undefined variable\n"
     ]
    }
   ],
   "source": [
    "# Exception Handling with pre defined functions\n",
    "try:\n",
    "   print(y)\n",
    "\n",
    "except NameError:  # Raised when a local or global name is not found. This applies only to unqualified names.\n",
    "                   # the associated value is an error message that includes the name that could not be found.\n",
    "  print(\"undefined variable\")\n",
    "\n",
    "except:\n",
    "  print(\"Oops we have an error\")"
   ]
  },
  {
   "cell_type": "code",
   "execution_count": 7,
   "metadata": {},
   "outputs": [
    {
     "name": "stdout",
     "output_type": "stream",
     "text": [
      "Variable f is not defined\n"
     ]
    }
   ],
   "source": [
    "try:\n",
    "    x = 0\n",
    "    y = 9\n",
    "    print(f)\n",
    "    \n",
    "except NameError:\n",
    "  print(\"Variable f is not defined\")\n",
    "\n",
    "except ZeroDivisionError:  # Raised when the second argument of a division or modulo operation is zero. \n",
    "                           # The associated value is a string indicating the type of the operands and the operation.\n",
    "  print(\"We can't divide anything by a zero\")\n",
    "\n",
    "except:\n",
    "  print(\"Oops we have an error\")"
   ]
  },
  {
   "cell_type": "code",
   "execution_count": null,
   "metadata": {},
   "outputs": [],
   "source": [
    "try:\n",
    "  print(d)\n",
    "\n",
    "except:\n",
    "  print(\"Something went wrong\")\n",
    "\n",
    "finally:\n",
    "  print(\"Thanks for using this service\")"
   ]
  }
 ],
 "metadata": {
  "kernelspec": {
   "display_name": "Python 3",
   "language": "python",
   "name": "python3"
  },
  "language_info": {
   "codemirror_mode": {
    "name": "ipython",
    "version": 3
   },
   "file_extension": ".py",
   "mimetype": "text/x-python",
   "name": "python",
   "nbconvert_exporter": "python",
   "pygments_lexer": "ipython3",
   "version": "3.6.5"
  }
 },
 "nbformat": 4,
 "nbformat_minor": 2
}

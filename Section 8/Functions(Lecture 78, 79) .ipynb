{
 "cells": [
  {
   "cell_type": "code",
   "execution_count": null,
   "metadata": {},
   "outputs": [],
   "source": [
    "def fib(n):    # write Fibonacci series up to n\n",
    "    \"\"\"Print a Fibonacci series up to n.\"\"\"\n",
    "    a, b = 0, 1\n",
    "    while a < n:\n",
    "        print(a, end=' ')\n",
    "        a, b = b, a+b\n",
    "    print()\n",
    "\n"
   ]
  },
  {
   "cell_type": "code",
   "execution_count": null,
   "metadata": {},
   "outputs": [],
   "source": [
    "def fib2(n):   # return Fibonacci series up to n\n",
    "    result = []\n",
    "    a, b = 0, 1\n",
    "    while a < n:\n",
    "        result.append(a)\n",
    "        a, b = b, a+b\n",
    "    return result"
   ]
  },
  {
   "cell_type": "code",
   "execution_count": null,
   "metadata": {},
   "outputs": [],
   "source": [
    "import sys\n",
    "sys.path"
   ]
  },
  {
   "cell_type": "code",
   "execution_count": null,
   "metadata": {},
   "outputs": [],
   "source": [
    "#Please copy the 2 methods of creating the fibonacci series and create a .py file . I am using Notepad++ for the same.\n",
    "import fibo\n"
   ]
  },
  {
   "cell_type": "code",
   "execution_count": null,
   "metadata": {},
   "outputs": [],
   "source": [
    "\n",
    "fibo.fib2(100)"
   ]
  },
  {
   "cell_type": "code",
   "execution_count": null,
   "metadata": {},
   "outputs": [],
   "source": [
    "# classes"
   ]
  },
  {
   "cell_type": "code",
   "execution_count": null,
   "metadata": {},
   "outputs": [],
   "source": [
    "class Sample:\n",
    "  y = [1,2,3,4,5,6]\n",
    "\n",
    "a = Sample()\n",
    "a.y\n"
   ]
  },
  {
   "cell_type": "code",
   "execution_count": null,
   "metadata": {},
   "outputs": [],
   "source": [
    "x = [4,5,6]\n",
    "z = [7,8,9]\n",
    "\n",
    "class Sample:\n",
    "  y = [1,2,3]\n",
    "\n",
    "a = Sample()\n",
    "\n",
    "a.y+x+z"
   ]
  },
  {
   "cell_type": "code",
   "execution_count": null,
   "metadata": {},
   "outputs": [],
   "source": [
    "class Add:\n",
    " def __init__(self, x, y):\n",
    "  self.s = x\n",
    "  self.g = y\n",
    "  self.z = self.s + self.g\n",
    "  #print(self.z)\n",
    "    \n",
    "\n",
    "p = Add(1,2)\n",
    "print(p.z)"
   ]
  },
  {
   "cell_type": "code",
   "execution_count": 78,
   "metadata": {},
   "outputs": [
    {
     "name": "stdout",
     "output_type": "stream",
     "text": [
      "30\n"
     ]
    }
   ],
   "source": [
    "class Multi:\n",
    "    \n",
    "    \n",
    " def __init__(self, x, y):\n",
    "  self.s = x\n",
    "  self.g = y\n",
    "  self.z = self.s * self.g\n",
    "  #print(z)\n",
    "\n",
    "class Add:\n",
    " def __init__(self, x, y):\n",
    "  self.s = x\n",
    "  self.g = y\n",
    "  self.z = self.s + self.g\n",
    "  #print(self.z)\n",
    "    \n",
    "\n",
    "p = Multi(5,6)\n",
    "print(p.z)"
   ]
  },
  {
   "cell_type": "code",
   "execution_count": null,
   "metadata": {},
   "outputs": [],
   "source": [
    "class Person:\n",
    "  def __init__(mysillyobject, name, age):\n",
    "    mysillyobject.name = name\n",
    "    mysillyobject.age = age\n",
    "    print(\"Hello my name is \" + mysillyobject.name)\n",
    "  \n",
    "\n",
    "\n",
    "p1 = Person(\"John\", 36)\n"
   ]
  },
  {
   "cell_type": "code",
   "execution_count": null,
   "metadata": {},
   "outputs": [],
   "source": [
    "class Add:\n",
    " def test(self, x, y):\n",
    "  self.s = x\n",
    "  self.g = y\n",
    "  self.z = self.s + self.g\n",
    "  print(self.z)\n",
    "    \n",
    "h = Add()   \n",
    "h.test(1,2)"
   ]
  },
  {
   "cell_type": "code",
   "execution_count": null,
   "metadata": {},
   "outputs": [],
   "source": [
    "\n"
   ]
  }
 ],
 "metadata": {
  "kernelspec": {
   "display_name": "Python 3",
   "language": "python",
   "name": "python3"
  },
  "language_info": {
   "codemirror_mode": {
    "name": "ipython",
    "version": 3
   },
   "file_extension": ".py",
   "mimetype": "text/x-python",
   "name": "python",
   "nbconvert_exporter": "python",
   "pygments_lexer": "ipython3",
   "version": "3.6.5"
  }
 },
 "nbformat": 4,
 "nbformat_minor": 2
}

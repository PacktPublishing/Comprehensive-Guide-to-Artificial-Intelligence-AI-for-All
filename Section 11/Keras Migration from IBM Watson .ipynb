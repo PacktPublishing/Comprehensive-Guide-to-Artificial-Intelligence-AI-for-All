{
 "cells": [
  {
   "cell_type": "code",
   "execution_count": 5,
   "metadata": {},
   "outputs": [
    {
     "name": "stdout",
     "output_type": "stream",
     "text": [
      "Training data shape: (50040, 28, 28, 1)\n",
      "Validation data shape: (9960, 28, 28, 1)\n",
      "Testing data shape: (10000, 28, 28, 1)\n",
      "Train on 50040 samples, validate on 9960 samples\n",
      "Epoch 1/1\n",
      "50040/50040 [==============================] - 41s 827us/step - loss: 9.1169 - acc: 0.4223 - val_loss: 8.1368 - val_acc: 0.4837\n",
      "10000/10000 [==============================] - 2s 231us/step\n",
      "[8.074626425170898, 0.4886]\n",
      "Model saved in file: ./keras_model.hdf5\n"
     ]
    }
   ],
   "source": [
    "\"\"\"\n",
    "IBM Deep Learning (IDE) Generated Code.\n",
    "Compatible Keras Version : 2.1\n",
    "Tested on Python Version : 3.6.3\n",
    "\"\"\"\n",
    "\n",
    "# Import all dependencies\n",
    "import os\n",
    "import numpy as np\n",
    "import keras\n",
    "from keras.models import Model\n",
    "import keras.backend as K\n",
    "import keras.regularizers as R\n",
    "import keras.constraints as C\n",
    "from keras.layers import *\n",
    "from keras.optimizers import *\n",
    "import keras_helper as helper\n",
    "from keras.callbacks import TensorBoard\n",
    "\n",
    "# Perform data pre-processing\n",
    "defined_metrics = []\n",
    "batch_size = 128\n",
    "num_epochs = 1\n",
    "\n",
    "ImageData_3_params = {\n",
    "    \"train_dataset\": \"C:/Users/Lenovo/Downloads/MNIST-pkl/mnist-keras-train.pkl\",\n",
    "    \"val_dataset\": \"C:/Users/Lenovo/Downloads/MNIST-pkl/mnist-keras-valid.pkl\",\n",
    "    \"test_dataset\": \"C:/Users/Lenovo/Downloads/MNIST-pkl/mnist-keras-test.pkl\",\n",
    "    \"validation_split\": 0.1,\n",
    "    \"test_split\": 0.1,\n",
    "    \"rows\": 28,\n",
    "    \"cols\": 28,\n",
    "    \"dim_ordering\": \"channels_last\",\n",
    "    \"dbformat\": \"Python Pickle\",\n",
    "    \"num_classes\": 10\n",
    "}\n",
    "ImageData_3_data = helper.image_data_handler(ImageData_3_params)\n",
    "train_x = ImageData_3_data[\"train_x\"]\n",
    "train_y = ImageData_3_data[\"train_y\"]\n",
    "val_x = ImageData_3_data[\"val_x\"]\n",
    "val_y = ImageData_3_data[\"val_y\"]\n",
    "test_x = ImageData_3_data[\"test_x\"]\n",
    "test_y = ImageData_3_data[\"test_y\"]\n",
    "labels = ImageData_3_data[\"labels\"]\n",
    "ImageData_3_shape = train_x.shape[1:]\n",
    "\n",
    "# Define network architecture\n",
    "ImageData_3 = Input(shape=ImageData_3_shape)\n",
    "Convolution2D_9 = Conv2D(\n",
    "    64, (3, 3),\n",
    "    data_format=\"channels_last\",\n",
    "    strides=(1, 1),\n",
    "    padding=\"valid\",\n",
    "    use_bias=True,\n",
    "    kernel_initializer=\"glorot_uniform\",\n",
    "    bias_initializer=\"glorot_uniform\",\n",
    "    kernel_regularizer=None,\n",
    "    bias_regularizer=None,\n",
    "    activity_regularizer=None,\n",
    "    kernel_constraint=None,\n",
    "    bias_constraint=None)(ImageData_3)\n",
    "ReLU_8 = Activation(\"relu\")(Convolution2D_9)\n",
    "Pooling2D_7 = MaxPooling2D(\n",
    "    pool_size=(2, 2),\n",
    "    strides=(2, 2),\n",
    "    padding=\"valid\",\n",
    "    data_format=\"channels_last\")(ReLU_8)\n",
    "Flatten_1 = Flatten()(Pooling2D_7)\n",
    "Dense_2 = Dense(\n",
    "    10,\n",
    "    use_bias=False,\n",
    "    kernel_initializer=\"glorot_uniform\",\n",
    "    bias_initializer=\"glorot_uniform\",\n",
    "    kernel_regularizer=None,\n",
    "    bias_regularizer=None,\n",
    "    activity_regularizer=None,\n",
    "    kernel_constraint=None,\n",
    "    bias_constraint=None)(Flatten_1)\n",
    "Softmax_4 = Activation(\"softmax\")(Dense_2)\n",
    "defined_metrics.append(\"accuracy\")\n",
    "defined_loss = \"categorical_crossentropy\"\n",
    "\n",
    "model_inputs = [ImageData_3]\n",
    "model_outputs = [Softmax_4]\n",
    "model = Model(inputs=model_inputs, outputs=model_outputs)\n",
    "\n",
    "# Define optimizer\n",
    "learning_rate = 0.001000\n",
    "momentum = 0.100000\n",
    "decay = 0.100000\n",
    "nesterov = False\n",
    "optim = SGD(\n",
    "    lr=learning_rate, momentum=momentum, decay=decay, nesterov=nesterov)\n",
    "\n",
    "# Perform training and other misc. final steps\n",
    "model.compile(loss=defined_loss, optimizer=optim, metrics=defined_metrics)\n",
    "if len(model_outputs) > 1:\n",
    "    train_y = [train_y] * len(model_outputs)\n",
    "    if len(val_x) > 0: val_y = [val_y] * len(model_outputs)\n",
    "    if len(test_x) > 0: test_y = [test_y] * len(model_outputs)\n",
    "#writing metrics\n",
    "job_state_dir = os.environ.get('JOB_STATE_DIR')\n",
    "static_path = os.path.join(\"logs\", \"tb\", \"test\")\n",
    "if job_state_dir is not None:\n",
    "    tb_directory = os.path.join(job_state_dir, static_path)\n",
    "else:\n",
    "    tb_directory = static_path\n",
    "tensorboard = TensorBoard(log_dir=tb_directory)\n",
    "if (len(val_x) > 0):\n",
    "    model.fit(\n",
    "        train_x,\n",
    "        train_y,\n",
    "        batch_size=batch_size,\n",
    "        epochs=num_epochs,\n",
    "        verbose=1,\n",
    "        validation_data=(val_x, val_y),\n",
    "        shuffle=True,\n",
    "        callbacks=[tensorboard])\n",
    "else:\n",
    "    model.fit(\n",
    "        train_x,\n",
    "        train_y,\n",
    "        batch_size=batch_size,\n",
    "        epochs=num_epochs,\n",
    "        verbose=1,\n",
    "        shuffle=True,\n",
    "        callbacks=[tensorboard])\n",
    "if (len(test_x) > 0):\n",
    "    test_scores = model.evaluate(test_x, test_y, verbose=1)\n",
    "    print(test_scores)\n",
    "if \"model_result_path\" not in locals() \\\n",
    " and \"model_result_path\" not in globals():\n",
    "    model_result_path = \"./keras_model.hdf5\"\n",
    "model.save(model_result_path)\n",
    "print(\"Model saved in file: %s\" % model_result_path)\n"
   ]
  },
  {
   "cell_type": "code",
   "execution_count": null,
   "metadata": {},
   "outputs": [],
   "source": [
    "train_x[0:1]"
   ]
  },
  {
   "cell_type": "code",
   "execution_count": 8,
   "metadata": {},
   "outputs": [
    {
     "data": {
      "image/png": "[encoded data removed]",
      "text/plain": [
       "<Figure size 432x288 with 1 Axes>"
      ]
     },
     "metadata": {},
     "output_type": "display_data"
    }
   ],
   "source": [
    "import matplotlib.pyplot as plt\n",
    "X = train_x[1]\n",
    "X1 = X.reshape(28, 28)\n",
    "plt.gray()\n",
    "plt.imshow(X1)\n",
    "plt.show()"
   ]
  },
  {
   "cell_type": "code",
   "execution_count": 12,
   "metadata": {},
   "outputs": [
    {
     "data": {
      "text/plain": [
       "array([[0., 0., 0., 1., 0., 0., 0., 0., 0., 0.]], dtype=float32)"
      ]
     },
     "execution_count": 12,
     "metadata": {},
     "output_type": "execute_result"
    }
   ],
   "source": [
    "train_y[25:26]"
   ]
  },
  {
   "cell_type": "code",
   "execution_count": 11,
   "metadata": {},
   "outputs": [
    {
     "data": {
      "text/plain": [
       "array([[2.6850688e-09, 2.7697198e-21, 1.4492397e-25, 1.0000000e+00,\n",
       "        1.2753754e-22, 1.9027411e-37, 9.7649971e-31, 1.4037213e-22,\n",
       "        3.8020020e-33, 3.8388199e-23]], dtype=float32)"
      ]
     },
     "execution_count": 11,
     "metadata": {},
     "output_type": "execute_result"
    }
   ],
   "source": [
    "model.predict(train_x[25:26])"
   ]
  },
  {
   "cell_type": "code",
   "execution_count": null,
   "metadata": {},
   "outputs": [],
   "source": []
  }
 ],
 "metadata": {
  "kernelspec": {
   "display_name": "Python 3",
   "language": "python",
   "name": "python3"
  },
  "language_info": {
   "codemirror_mode": {
    "name": "ipython",
    "version": 3
   },
   "file_extension": ".py",
   "mimetype": "text/x-python",
   "name": "python",
   "nbconvert_exporter": "python",
   "pygments_lexer": "ipython3",
   "version": "3.6.5"
  }
 },
 "nbformat": 4,
 "nbformat_minor": 2
}
